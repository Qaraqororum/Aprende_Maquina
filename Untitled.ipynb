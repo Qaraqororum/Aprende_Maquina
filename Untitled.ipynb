{
 "cells": [
  {
   "cell_type": "markdown",
   "id": "c14ebe1b",
   "metadata": {},
   "source": [
    "# Ejercicio B\n",
    "Miguel Hortelano Busto y Francisco Olayo González Rodríguez "
   ]
  },
  {
   "cell_type": "markdown",
   "id": "6fd64334",
   "metadata": {},
   "source": [
    "Como para estos clústerings resultantes, al no tenener un conjunto de etiquetas verdaderas \"Ground Truth\", utilizamos métricas que no necesiten de ella. En nuestro caso optaremos por los coeficientes de siluteta (silhouette). También es oportuno"
   ]
  }
 ],
 "metadata": {
  "kernelspec": {
   "display_name": "Python 3",
   "language": "python",
   "name": "python3"
  },
  "language_info": {
   "codemirror_mode": {
    "name": "ipython",
    "version": 3
   },
   "file_extension": ".py",
   "mimetype": "text/x-python",
   "name": "python",
   "nbconvert_exporter": "python",
   "pygments_lexer": "ipython3",
   "version": "3.8.8"
  }
 },
 "nbformat": 4,
 "nbformat_minor": 5
}
