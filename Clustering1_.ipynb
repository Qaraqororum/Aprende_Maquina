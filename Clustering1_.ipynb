{
 "cells": [
  {
   "cell_type": "code",
   "execution_count": 1,
   "id": "bf43e2d4",
   "metadata": {},
   "outputs": [],
   "source": [
    "#esto es una prueba a ver si se sube\n",
    "import support_functions as sp\n",
    "import numpy as np\n",
    "import matplotlib.pyplot as plt\n",
    "\n",
    "from sklearn.cluster import KMeans\n",
    "from sklearn.metrics import silhouette_samples, silhouette_score\n",
    "\n"
   ]
  },
  {
   "cell_type": "code",
   "execution_count": 2,
   "id": "146bfbbb",
   "metadata": {},
   "outputs": [
    {
     "data": {
      "text/plain": [
       "[<matplotlib.lines.Line2D at 0x230d2cbd0a0>]"
      ]
     },
     "execution_count": 2,
     "metadata": {},
     "output_type": "execute_result"
    },
    {
     "data": {
      "image/png": "[encoded data removed]",
      "text/plain": [
       "<Figure size 432x288 with 1 Axes>"
      ]
     },
     "metadata": {
      "needs_background": "light"
     },
     "output_type": "display_data"
    }
   ],
   "source": [
    "# X e Y son matrices, XL y Yl están vectorizadas y sin etiquetas 0\n",
    "X,Y,Xl,Yl = sp.aviris_data_load()\n",
    "\n",
    "#Las etiquetas van de 1 a 16\n",
    "n_clusters = np.arange(2,20)\n",
    "\n",
    "# Entrenamos una serie de algoritmos kmeans con diferente número de clusters\n",
    "clstrs = [KMeans(n_clusters = i) for i in n_clusters]\n",
    "clstrs_fit = [model.fit(Xl) for model in clstrs]\n",
    "clstrs_score = [model.score(Xl) for model in clstrs_fit]\n",
    "\n",
    "figure, splot = plt.subplots()\n",
    "splot.plot(n_clusters,clstrs_score)"
   ]
  },
  {
   "cell_type": "code",
   "execution_count": null,
   "id": "e7cdf3b5",
   "metadata": {},
   "outputs": [],
   "source": [
    "X = X.reshape([145*145,220])\n",
    "clstrs_predictions = [model.predict(X) for model in clstrs_fit]\n",
    "clstrs_Y = [pred.reshape([145,145,1]) for pred in clstrs_predictions]\n",
    "\n",
    "#class_map es una función en support functions que da una imagen \n",
    "#del suelo donde aparece la clase ( o el cluster ) de cada pixel\n",
    "#Obtenemos las gráficas de Shilouette\n",
    "\n",
    "#ALERTA !!!!!! si piensas que se te ha pillado el ordenador, tranquilo, este proceso es muy pesado\n",
    "[sp.class_map(X,im) for im in clstrs_Y]"
   ]
  },
  {
   "cell_type": "code",
   "execution_count": null,
   "id": "ad81b95b",
   "metadata": {},
   "outputs": [],
   "source": [
    "#Obtenemos las puntuaciones de Silhouette (Tarda un buen rato, aviso)\n",
    "clstrs_shilouette = [silhouette_score(X, pred.reshape([145*145]), metric='euclidean') for pred in clstrs_Y]\n",
    "#Obtenemos las gráficas de Shilouette\n",
    "[sp.draw_silhouette(X,pred.reshape([145*145])) for pred in clstrs_Y]\n"
   ]
  },
  {
   "cell_type": "code",
   "execution_count": null,
   "id": "549a812b",
   "metadata": {},
   "outputs": [],
   "source": []
  }
 ],
 "metadata": {
  "kernelspec": {
   "display_name": "Python 3",
   "language": "python",
   "name": "python3"
  },
  "language_info": {
   "codemirror_mode": {
    "name": "ipython",
    "version": 3
   },
   "file_extension": ".py",
   "mimetype": "text/x-python",
   "name": "python",
   "nbconvert_exporter": "python",
   "pygments_lexer": "ipython3",
   "version": "3.8.8"
  }
 },
 "nbformat": 4,
 "nbformat_minor": 5
}
